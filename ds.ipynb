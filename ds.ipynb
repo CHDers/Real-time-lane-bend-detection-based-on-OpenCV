{
 "cells": [
  {
   "cell_type": "code",
   "execution_count": 1,
   "id": "8654b828",
   "metadata": {},
   "outputs": [],
   "source": [
    "import numpy as np\n",
    "import pandas as pd\n",
    "import cv2\n",
    "import os\n",
    "import glob\n",
    "import matplotlib.pyplot as plt\n",
    "import pickle\n",
    "from moviepy.editor import VideoFileClip\n",
    "from rich import print"
   ]
  },
  {
   "cell_type": "code",
   "execution_count": 3,
   "id": "a047f47f",
   "metadata": {},
   "outputs": [],
   "source": [
    "# Prepare object points 0,0,0 ... 8,5,0\n",
    "obj_pts = np.zeros((6*9, 3), np.float32)"
   ]
  },
  {
   "cell_type": "code",
   "execution_count": 6,
   "id": "30f2561d",
   "metadata": {},
   "outputs": [
    {
     "data": {
      "text/plain": [
       "(54, 3)"
      ]
     },
     "execution_count": 6,
     "metadata": {},
     "output_type": "execute_result"
    }
   ],
   "source": [
    "obj_pts.shape"
   ]
  },
  {
   "cell_type": "code",
   "execution_count": 10,
   "id": "3c379845",
   "metadata": {},
   "outputs": [
    {
     "data": {
      "text/plain": [
       "array([[[0, 0, 0, 0, 0, 0],\n",
       "        [1, 1, 1, 1, 1, 1],\n",
       "        [2, 2, 2, 2, 2, 2],\n",
       "        [3, 3, 3, 3, 3, 3],\n",
       "        [4, 4, 4, 4, 4, 4],\n",
       "        [5, 5, 5, 5, 5, 5],\n",
       "        [6, 6, 6, 6, 6, 6],\n",
       "        [7, 7, 7, 7, 7, 7],\n",
       "        [8, 8, 8, 8, 8, 8]],\n",
       "\n",
       "       [[0, 1, 2, 3, 4, 5],\n",
       "        [0, 1, 2, 3, 4, 5],\n",
       "        [0, 1, 2, 3, 4, 5],\n",
       "        [0, 1, 2, 3, 4, 5],\n",
       "        [0, 1, 2, 3, 4, 5],\n",
       "        [0, 1, 2, 3, 4, 5],\n",
       "        [0, 1, 2, 3, 4, 5],\n",
       "        [0, 1, 2, 3, 4, 5],\n",
       "        [0, 1, 2, 3, 4, 5]]])"
      ]
     },
     "execution_count": 10,
     "metadata": {},
     "output_type": "execute_result"
    }
   ],
   "source": [
    "np.mgrid[0:9, 0:6]"
   ]
  },
  {
   "cell_type": "code",
   "execution_count": 7,
   "id": "20440a1c",
   "metadata": {},
   "outputs": [
    {
     "data": {
      "text/plain": [
       "array([[0., 0., 0.],\n",
       "       [1., 0., 0.],\n",
       "       [2., 0., 0.],\n",
       "       [3., 0., 0.],\n",
       "       [4., 0., 0.],\n",
       "       [5., 0., 0.],\n",
       "       [6., 0., 0.],\n",
       "       [7., 0., 0.],\n",
       "       [8., 0., 0.],\n",
       "       [0., 1., 0.],\n",
       "       [1., 1., 0.],\n",
       "       [2., 1., 0.],\n",
       "       [3., 1., 0.],\n",
       "       [4., 1., 0.],\n",
       "       [5., 1., 0.],\n",
       "       [6., 1., 0.],\n",
       "       [7., 1., 0.],\n",
       "       [8., 1., 0.],\n",
       "       [0., 2., 0.],\n",
       "       [1., 2., 0.],\n",
       "       [2., 2., 0.],\n",
       "       [3., 2., 0.],\n",
       "       [4., 2., 0.],\n",
       "       [5., 2., 0.],\n",
       "       [6., 2., 0.],\n",
       "       [7., 2., 0.],\n",
       "       [8., 2., 0.],\n",
       "       [0., 3., 0.],\n",
       "       [1., 3., 0.],\n",
       "       [2., 3., 0.],\n",
       "       [3., 3., 0.],\n",
       "       [4., 3., 0.],\n",
       "       [5., 3., 0.],\n",
       "       [6., 3., 0.],\n",
       "       [7., 3., 0.],\n",
       "       [8., 3., 0.],\n",
       "       [0., 4., 0.],\n",
       "       [1., 4., 0.],\n",
       "       [2., 4., 0.],\n",
       "       [3., 4., 0.],\n",
       "       [4., 4., 0.],\n",
       "       [5., 4., 0.],\n",
       "       [6., 4., 0.],\n",
       "       [7., 4., 0.],\n",
       "       [8., 4., 0.],\n",
       "       [0., 5., 0.],\n",
       "       [1., 5., 0.],\n",
       "       [2., 5., 0.],\n",
       "       [3., 5., 0.],\n",
       "       [4., 5., 0.],\n",
       "       [5., 5., 0.],\n",
       "       [6., 5., 0.],\n",
       "       [7., 5., 0.],\n",
       "       [8., 5., 0.]], dtype=float32)"
      ]
     },
     "execution_count": 7,
     "metadata": {},
     "output_type": "execute_result"
    }
   ],
   "source": [
    "obj_pts[:, :2] = np.mgrid[0:9, 0:6].T.reshape(-1, 2)\n",
    "obj_pts\n"
   ]
  },
  {
   "cell_type": "code",
   "execution_count": null,
   "id": "9ee98ef5",
   "metadata": {},
   "outputs": [],
   "source": [
    "# Stores all object points & img points from all images\n",
    "objpoints = []\n",
    "imgpoints = []\n",
    "\n",
    "# Get directory for all calibration images\n",
    "images = glob.glob('camera_cal/*.jpg')\n",
    "\n",
    "for indx, fname in enumerate(images):\n",
    "    img = cv2.imread(fname)\n",
    "    gray = cv2.cvtColor(img, cv2.COLOR_BGR2GRAY)\n",
    "\n",
    "    ret, corners = cv2.findChessboardCorners(gray, (9, 6), None)\n",
    "\n",
    "    if ret == True:\n",
    "        objpoints.append(obj_pts)\n",
    "        imgpoints.append(corners)\n",
    "# Test undistortion on img\n",
    "img_size = (img.shape[1], img.shape[0])\n",
    "\n",
    "# Calibrate camera\n",
    "ret, mtx, dist, rvecs, tvecs = cv2.calibrateCamera(\n",
    "    objpoints, imgpoints, img_size, None, None)\n",
    "\n",
    "dst = cv2.undistort(img, mtx, dist, None, mtx)\n",
    "# Save camera calibration for later use\n",
    "dist_pickle = {}\n",
    "dist_pickle['mtx'] = mtx\n",
    "dist_pickle['dist'] = dist\n",
    "pickle.dump(dist_pickle, open('camera_cal/cal_pickle.p', 'wb'))"
   ]
  }
 ],
 "metadata": {
  "kernelspec": {
   "display_name": "DL",
   "language": "python",
   "name": "python3"
  },
  "language_info": {
   "codemirror_mode": {
    "name": "ipython",
    "version": 3
   },
   "file_extension": ".py",
   "mimetype": "text/x-python",
   "name": "python",
   "nbconvert_exporter": "python",
   "pygments_lexer": "ipython3",
   "version": "3.8.17"
  }
 },
 "nbformat": 4,
 "nbformat_minor": 5
}
